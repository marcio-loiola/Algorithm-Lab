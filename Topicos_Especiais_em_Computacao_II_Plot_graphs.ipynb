{
  "cells": [
    {
      "cell_type": "markdown",
      "metadata": {
        "id": "view-in-github",
        "colab_type": "text"
      },
      "source": [
        "<a href=\"https://colab.research.google.com/github/marcio-loiola/Algorithm-Lab/blob/main/Topicos_Especiais_em_Computacao_II_Plot_graphs.ipynb\" target=\"_parent\"><img src=\"https://colab.research.google.com/assets/colab-badge.svg\" alt=\"Open In Colab\"/></a>"
      ]
    },
    {
      "cell_type": "markdown",
      "metadata": {
        "id": "PQRJxHlJyV8_"
      },
      "source": [
        "# Importar bibliotecas de geração de gráficos para visualizar as métricas de consumo de memória e tempo de execução, importando também tabelas com os dados através do Google Drive."
      ]
    },
    {
      "cell_type": "code",
      "source": [
        "from google.colab import drive\n",
        "drive.mount('/content/drive')"
      ],
      "metadata": {
        "colab": {
          "base_uri": "https://localhost:8080/"
        },
        "id": "c2hCjYXNEz3l",
        "outputId": "c205a7f6-553a-4826-a117-52f394e77cb6"
      },
      "execution_count": 80,
      "outputs": [
        {
          "output_type": "stream",
          "name": "stdout",
          "text": [
            "Drive already mounted at /content/drive; to attempt to forcibly remount, call drive.mount(\"/content/drive\", force_remount=True).\n"
          ]
        }
      ]
    },
    {
      "cell_type": "code",
      "execution_count": 81,
      "metadata": {
        "id": "rVsGRbBuyDz5"
      },
      "outputs": [],
      "source": [
        "import matplotlib.pyplot as plt\n",
        "import seaborn as sns\n",
        "import plotly.express as px\n",
        "import pandas as pd\n",
        "import numpy as np\n"
      ]
    },
    {
      "cell_type": "markdown",
      "metadata": {
        "id": "QW_FNzPrS1Lv"
      },
      "source": [
        "# MaxValue"
      ]
    },
    {
      "cell_type": "markdown",
      "metadata": {
        "id": "3_lZPjxOS1L1"
      },
      "source": [
        "## Ler tabela com as métricas de tempo de execução e memória consumida"
      ]
    },
    {
      "cell_type": "code",
      "execution_count": 82,
      "metadata": {
        "id": "9tR_Q6i8S1L5",
        "scrolled": true
      },
      "outputs": [],
      "source": [
        "memoryUsageMaxValueDF = pd.read_excel('/content/drive/MyDrive/Colab-Notebooks/maxVal1-Metricas.xlsx')"
      ]
    },
    {
      "cell_type": "code",
      "execution_count": 83,
      "metadata": {
        "colab": {
          "base_uri": "https://localhost:8080/",
          "height": 457
        },
        "id": "9kijaITrS1L7",
        "outputId": "70c4b4f9-5936-442c-eb15-c331bd628e7e"
      },
      "outputs": [
        {
          "output_type": "execute_result",
          "data": {
            "text/plain": [
              "      Instância (grandeza)  Tempo Total (milisegundos)  \\\n",
              "0         100 não-ordenada                      3.5252   \n",
              "1         200 não-ordenada                      4.2843   \n",
              "2        1000 não-ordenada                      4.8990   \n",
              "3        2000 não-ordenada                      8.5232   \n",
              "4        5000 não-ordenada                      6.0138   \n",
              "5       10000 não-ordenada                      8.7176   \n",
              "6       50000 não-ordenada                     10.2059   \n",
              "7      100000 não-ordenada                      7.7945   \n",
              "8      500000 não-ordenada                     15.5860   \n",
              "9     1000000 não-ordenada                     25.9279   \n",
              "10    5000000 não-ordenada                     63.4682   \n",
              "11   10000000 não-ordenada                     98.4511   \n",
              "12  100000000 não-ordenada                    878.3337   \n",
              "\n",
              "    Tempo médio (milisegundos)  Memória Total (bytes)  Memória média (bytes)  \n",
              "0                      0.35252                27072.0                 2707.2  \n",
              "1                      0.42843                27120.0                 2712.0  \n",
              "2                      0.48990                27072.0                 2707.2  \n",
              "3                      0.85232                27096.0                 2709.6  \n",
              "4                      0.60138                27200.0                 2720.0  \n",
              "5                      0.87176                27176.0                 2717.6  \n",
              "6                      1.02059                27176.0                 2717.6  \n",
              "7                      0.77945                27176.0                 2717.6  \n",
              "8                      1.55860                27176.0                 2717.6  \n",
              "9                      2.59279                27176.0                 2717.6  \n",
              "10                     6.34682                27176.0                 2717.6  \n",
              "11                     9.84511                27176.0                 2717.6  \n",
              "12                    87.83337                27176.0                 2717.6  "
            ],
            "text/html": [
              "\n",
              "  <div id=\"df-243506cf-8c04-4994-8028-8decb0f9ebb8\" class=\"colab-df-container\">\n",
              "    <div>\n",
              "<style scoped>\n",
              "    .dataframe tbody tr th:only-of-type {\n",
              "        vertical-align: middle;\n",
              "    }\n",
              "\n",
              "    .dataframe tbody tr th {\n",
              "        vertical-align: top;\n",
              "    }\n",
              "\n",
              "    .dataframe thead th {\n",
              "        text-align: right;\n",
              "    }\n",
              "</style>\n",
              "<table border=\"1\" class=\"dataframe\">\n",
              "  <thead>\n",
              "    <tr style=\"text-align: right;\">\n",
              "      <th></th>\n",
              "      <th>Instância (grandeza)</th>\n",
              "      <th>Tempo Total (milisegundos)</th>\n",
              "      <th>Tempo médio (milisegundos)</th>\n",
              "      <th>Memória Total (bytes)</th>\n",
              "      <th>Memória média (bytes)</th>\n",
              "    </tr>\n",
              "  </thead>\n",
              "  <tbody>\n",
              "    <tr>\n",
              "      <th>0</th>\n",
              "      <td>100 não-ordenada</td>\n",
              "      <td>3.5252</td>\n",
              "      <td>0.35252</td>\n",
              "      <td>27072.0</td>\n",
              "      <td>2707.2</td>\n",
              "    </tr>\n",
              "    <tr>\n",
              "      <th>1</th>\n",
              "      <td>200 não-ordenada</td>\n",
              "      <td>4.2843</td>\n",
              "      <td>0.42843</td>\n",
              "      <td>27120.0</td>\n",
              "      <td>2712.0</td>\n",
              "    </tr>\n",
              "    <tr>\n",
              "      <th>2</th>\n",
              "      <td>1000 não-ordenada</td>\n",
              "      <td>4.8990</td>\n",
              "      <td>0.48990</td>\n",
              "      <td>27072.0</td>\n",
              "      <td>2707.2</td>\n",
              "    </tr>\n",
              "    <tr>\n",
              "      <th>3</th>\n",
              "      <td>2000 não-ordenada</td>\n",
              "      <td>8.5232</td>\n",
              "      <td>0.85232</td>\n",
              "      <td>27096.0</td>\n",
              "      <td>2709.6</td>\n",
              "    </tr>\n",
              "    <tr>\n",
              "      <th>4</th>\n",
              "      <td>5000 não-ordenada</td>\n",
              "      <td>6.0138</td>\n",
              "      <td>0.60138</td>\n",
              "      <td>27200.0</td>\n",
              "      <td>2720.0</td>\n",
              "    </tr>\n",
              "    <tr>\n",
              "      <th>5</th>\n",
              "      <td>10000 não-ordenada</td>\n",
              "      <td>8.7176</td>\n",
              "      <td>0.87176</td>\n",
              "      <td>27176.0</td>\n",
              "      <td>2717.6</td>\n",
              "    </tr>\n",
              "    <tr>\n",
              "      <th>6</th>\n",
              "      <td>50000 não-ordenada</td>\n",
              "      <td>10.2059</td>\n",
              "      <td>1.02059</td>\n",
              "      <td>27176.0</td>\n",
              "      <td>2717.6</td>\n",
              "    </tr>\n",
              "    <tr>\n",
              "      <th>7</th>\n",
              "      <td>100000 não-ordenada</td>\n",
              "      <td>7.7945</td>\n",
              "      <td>0.77945</td>\n",
              "      <td>27176.0</td>\n",
              "      <td>2717.6</td>\n",
              "    </tr>\n",
              "    <tr>\n",
              "      <th>8</th>\n",
              "      <td>500000 não-ordenada</td>\n",
              "      <td>15.5860</td>\n",
              "      <td>1.55860</td>\n",
              "      <td>27176.0</td>\n",
              "      <td>2717.6</td>\n",
              "    </tr>\n",
              "    <tr>\n",
              "      <th>9</th>\n",
              "      <td>1000000 não-ordenada</td>\n",
              "      <td>25.9279</td>\n",
              "      <td>2.59279</td>\n",
              "      <td>27176.0</td>\n",
              "      <td>2717.6</td>\n",
              "    </tr>\n",
              "    <tr>\n",
              "      <th>10</th>\n",
              "      <td>5000000 não-ordenada</td>\n",
              "      <td>63.4682</td>\n",
              "      <td>6.34682</td>\n",
              "      <td>27176.0</td>\n",
              "      <td>2717.6</td>\n",
              "    </tr>\n",
              "    <tr>\n",
              "      <th>11</th>\n",
              "      <td>10000000 não-ordenada</td>\n",
              "      <td>98.4511</td>\n",
              "      <td>9.84511</td>\n",
              "      <td>27176.0</td>\n",
              "      <td>2717.6</td>\n",
              "    </tr>\n",
              "    <tr>\n",
              "      <th>12</th>\n",
              "      <td>100000000 não-ordenada</td>\n",
              "      <td>878.3337</td>\n",
              "      <td>87.83337</td>\n",
              "      <td>27176.0</td>\n",
              "      <td>2717.6</td>\n",
              "    </tr>\n",
              "  </tbody>\n",
              "</table>\n",
              "</div>\n",
              "    <div class=\"colab-df-buttons\">\n",
              "\n",
              "  <div class=\"colab-df-container\">\n",
              "    <button class=\"colab-df-convert\" onclick=\"convertToInteractive('df-243506cf-8c04-4994-8028-8decb0f9ebb8')\"\n",
              "            title=\"Convert this dataframe to an interactive table.\"\n",
              "            style=\"display:none;\">\n",
              "\n",
              "  <svg xmlns=\"http://www.w3.org/2000/svg\" height=\"24px\" viewBox=\"0 -960 960 960\">\n",
              "    <path d=\"M120-120v-720h720v720H120Zm60-500h600v-160H180v160Zm220 220h160v-160H400v160Zm0 220h160v-160H400v160ZM180-400h160v-160H180v160Zm440 0h160v-160H620v160ZM180-180h160v-160H180v160Zm440 0h160v-160H620v160Z\"/>\n",
              "  </svg>\n",
              "    </button>\n",
              "\n",
              "  <style>\n",
              "    .colab-df-container {\n",
              "      display:flex;\n",
              "      gap: 12px;\n",
              "    }\n",
              "\n",
              "    .colab-df-convert {\n",
              "      background-color: #E8F0FE;\n",
              "      border: none;\n",
              "      border-radius: 50%;\n",
              "      cursor: pointer;\n",
              "      display: none;\n",
              "      fill: #1967D2;\n",
              "      height: 32px;\n",
              "      padding: 0 0 0 0;\n",
              "      width: 32px;\n",
              "    }\n",
              "\n",
              "    .colab-df-convert:hover {\n",
              "      background-color: #E2EBFA;\n",
              "      box-shadow: 0px 1px 2px rgba(60, 64, 67, 0.3), 0px 1px 3px 1px rgba(60, 64, 67, 0.15);\n",
              "      fill: #174EA6;\n",
              "    }\n",
              "\n",
              "    .colab-df-buttons div {\n",
              "      margin-bottom: 4px;\n",
              "    }\n",
              "\n",
              "    [theme=dark] .colab-df-convert {\n",
              "      background-color: #3B4455;\n",
              "      fill: #D2E3FC;\n",
              "    }\n",
              "\n",
              "    [theme=dark] .colab-df-convert:hover {\n",
              "      background-color: #434B5C;\n",
              "      box-shadow: 0px 1px 3px 1px rgba(0, 0, 0, 0.15);\n",
              "      filter: drop-shadow(0px 1px 2px rgba(0, 0, 0, 0.3));\n",
              "      fill: #FFFFFF;\n",
              "    }\n",
              "  </style>\n",
              "\n",
              "    <script>\n",
              "      const buttonEl =\n",
              "        document.querySelector('#df-243506cf-8c04-4994-8028-8decb0f9ebb8 button.colab-df-convert');\n",
              "      buttonEl.style.display =\n",
              "        google.colab.kernel.accessAllowed ? 'block' : 'none';\n",
              "\n",
              "      async function convertToInteractive(key) {\n",
              "        const element = document.querySelector('#df-243506cf-8c04-4994-8028-8decb0f9ebb8');\n",
              "        const dataTable =\n",
              "          await google.colab.kernel.invokeFunction('convertToInteractive',\n",
              "                                                    [key], {});\n",
              "        if (!dataTable) return;\n",
              "\n",
              "        const docLinkHtml = 'Like what you see? Visit the ' +\n",
              "          '<a target=\"_blank\" href=https://colab.research.google.com/notebooks/data_table.ipynb>data table notebook</a>'\n",
              "          + ' to learn more about interactive tables.';\n",
              "        element.innerHTML = '';\n",
              "        dataTable['output_type'] = 'display_data';\n",
              "        await google.colab.output.renderOutput(dataTable, element);\n",
              "        const docLink = document.createElement('div');\n",
              "        docLink.innerHTML = docLinkHtml;\n",
              "        element.appendChild(docLink);\n",
              "      }\n",
              "    </script>\n",
              "  </div>\n",
              "\n",
              "\n",
              "<div id=\"df-168ce6c7-f30a-4abf-af8d-67b82d1bde7b\">\n",
              "  <button class=\"colab-df-quickchart\" onclick=\"quickchart('df-168ce6c7-f30a-4abf-af8d-67b82d1bde7b')\"\n",
              "            title=\"Suggest charts.\"\n",
              "            style=\"display:none;\">\n",
              "\n",
              "<svg xmlns=\"http://www.w3.org/2000/svg\" height=\"24px\"viewBox=\"0 0 24 24\"\n",
              "     width=\"24px\">\n",
              "    <g>\n",
              "        <path d=\"M19 3H5c-1.1 0-2 .9-2 2v14c0 1.1.9 2 2 2h14c1.1 0 2-.9 2-2V5c0-1.1-.9-2-2-2zM9 17H7v-7h2v7zm4 0h-2V7h2v10zm4 0h-2v-4h2v4z\"/>\n",
              "    </g>\n",
              "</svg>\n",
              "  </button>\n",
              "\n",
              "<style>\n",
              "  .colab-df-quickchart {\n",
              "      --bg-color: #E8F0FE;\n",
              "      --fill-color: #1967D2;\n",
              "      --hover-bg-color: #E2EBFA;\n",
              "      --hover-fill-color: #174EA6;\n",
              "      --disabled-fill-color: #AAA;\n",
              "      --disabled-bg-color: #DDD;\n",
              "  }\n",
              "\n",
              "  [theme=dark] .colab-df-quickchart {\n",
              "      --bg-color: #3B4455;\n",
              "      --fill-color: #D2E3FC;\n",
              "      --hover-bg-color: #434B5C;\n",
              "      --hover-fill-color: #FFFFFF;\n",
              "      --disabled-bg-color: #3B4455;\n",
              "      --disabled-fill-color: #666;\n",
              "  }\n",
              "\n",
              "  .colab-df-quickchart {\n",
              "    background-color: var(--bg-color);\n",
              "    border: none;\n",
              "    border-radius: 50%;\n",
              "    cursor: pointer;\n",
              "    display: none;\n",
              "    fill: var(--fill-color);\n",
              "    height: 32px;\n",
              "    padding: 0;\n",
              "    width: 32px;\n",
              "  }\n",
              "\n",
              "  .colab-df-quickchart:hover {\n",
              "    background-color: var(--hover-bg-color);\n",
              "    box-shadow: 0 1px 2px rgba(60, 64, 67, 0.3), 0 1px 3px 1px rgba(60, 64, 67, 0.15);\n",
              "    fill: var(--button-hover-fill-color);\n",
              "  }\n",
              "\n",
              "  .colab-df-quickchart-complete:disabled,\n",
              "  .colab-df-quickchart-complete:disabled:hover {\n",
              "    background-color: var(--disabled-bg-color);\n",
              "    fill: var(--disabled-fill-color);\n",
              "    box-shadow: none;\n",
              "  }\n",
              "\n",
              "  .colab-df-spinner {\n",
              "    border: 2px solid var(--fill-color);\n",
              "    border-color: transparent;\n",
              "    border-bottom-color: var(--fill-color);\n",
              "    animation:\n",
              "      spin 1s steps(1) infinite;\n",
              "  }\n",
              "\n",
              "  @keyframes spin {\n",
              "    0% {\n",
              "      border-color: transparent;\n",
              "      border-bottom-color: var(--fill-color);\n",
              "      border-left-color: var(--fill-color);\n",
              "    }\n",
              "    20% {\n",
              "      border-color: transparent;\n",
              "      border-left-color: var(--fill-color);\n",
              "      border-top-color: var(--fill-color);\n",
              "    }\n",
              "    30% {\n",
              "      border-color: transparent;\n",
              "      border-left-color: var(--fill-color);\n",
              "      border-top-color: var(--fill-color);\n",
              "      border-right-color: var(--fill-color);\n",
              "    }\n",
              "    40% {\n",
              "      border-color: transparent;\n",
              "      border-right-color: var(--fill-color);\n",
              "      border-top-color: var(--fill-color);\n",
              "    }\n",
              "    60% {\n",
              "      border-color: transparent;\n",
              "      border-right-color: var(--fill-color);\n",
              "    }\n",
              "    80% {\n",
              "      border-color: transparent;\n",
              "      border-right-color: var(--fill-color);\n",
              "      border-bottom-color: var(--fill-color);\n",
              "    }\n",
              "    90% {\n",
              "      border-color: transparent;\n",
              "      border-bottom-color: var(--fill-color);\n",
              "    }\n",
              "  }\n",
              "</style>\n",
              "\n",
              "  <script>\n",
              "    async function quickchart(key) {\n",
              "      const quickchartButtonEl =\n",
              "        document.querySelector('#' + key + ' button');\n",
              "      quickchartButtonEl.disabled = true;  // To prevent multiple clicks.\n",
              "      quickchartButtonEl.classList.add('colab-df-spinner');\n",
              "      try {\n",
              "        const charts = await google.colab.kernel.invokeFunction(\n",
              "            'suggestCharts', [key], {});\n",
              "      } catch (error) {\n",
              "        console.error('Error during call to suggestCharts:', error);\n",
              "      }\n",
              "      quickchartButtonEl.classList.remove('colab-df-spinner');\n",
              "      quickchartButtonEl.classList.add('colab-df-quickchart-complete');\n",
              "    }\n",
              "    (() => {\n",
              "      let quickchartButtonEl =\n",
              "        document.querySelector('#df-168ce6c7-f30a-4abf-af8d-67b82d1bde7b button');\n",
              "      quickchartButtonEl.style.display =\n",
              "        google.colab.kernel.accessAllowed ? 'block' : 'none';\n",
              "    })();\n",
              "  </script>\n",
              "</div>\n",
              "    </div>\n",
              "  </div>\n"
            ]
          },
          "metadata": {},
          "execution_count": 83
        }
      ],
      "source": [
        "memoryUsageMaxValueDF"
      ]
    },
    {
      "cell_type": "code",
      "execution_count": 84,
      "metadata": {
        "colab": {
          "base_uri": "https://localhost:8080/"
        },
        "id": "whNPZnm3S1MC",
        "outputId": "2a7ef220-3fa4-4653-defb-a29454a915c3"
      },
      "outputs": [
        {
          "output_type": "execute_result",
          "data": {
            "text/plain": [
              "numpy.float64"
            ]
          },
          "metadata": {},
          "execution_count": 84
        }
      ],
      "source": [
        "type(memoryUsageMaxValueDF.iloc[0][2])"
      ]
    },
    {
      "cell_type": "code",
      "execution_count": 85,
      "metadata": {
        "colab": {
          "base_uri": "https://localhost:8080/"
        },
        "id": "EBltKY0BS1MH",
        "outputId": "54372acf-471e-47be-9bc7-02b2bb27ce2c"
      },
      "outputs": [
        {
          "output_type": "execute_result",
          "data": {
            "text/plain": [
              "5"
            ]
          },
          "metadata": {},
          "execution_count": 85
        }
      ],
      "source": [
        "len(memoryUsageMaxValueDF.columns)"
      ]
    },
    {
      "cell_type": "code",
      "execution_count": 86,
      "metadata": {
        "colab": {
          "base_uri": "https://localhost:8080/"
        },
        "id": "i49aIUsrS1MN",
        "outputId": "70db90d4-9e82-40a9-e4cd-9365c40c2b8e"
      },
      "outputs": [
        {
          "output_type": "execute_result",
          "data": {
            "text/plain": [
              "0       3.5252\n",
              "1       4.2843\n",
              "2       4.8990\n",
              "3       8.5232\n",
              "4       6.0138\n",
              "5       8.7176\n",
              "6      10.2059\n",
              "7       7.7945\n",
              "8      15.5860\n",
              "9      25.9279\n",
              "10     63.4682\n",
              "11     98.4511\n",
              "12    878.3337\n",
              "Name: Tempo Total (milisegundos), dtype: float64"
            ]
          },
          "metadata": {},
          "execution_count": 86
        }
      ],
      "source": [
        "#Verificando se os valores estão como float em vez de str\n",
        "memoryUsageMaxValueDF[\"Tempo Total (milisegundos)\"]"
      ]
    },
    {
      "cell_type": "markdown",
      "metadata": {
        "id": "Rz7-RuHdS1MO"
      },
      "source": [
        "## Plotar gráficos"
      ]
    },
    {
      "cell_type": "markdown",
      "metadata": {
        "id": "tJ_6DjSnS1MS"
      },
      "source": [
        "### Matplotlib"
      ]
    },
    {
      "cell_type": "code",
      "execution_count": 99,
      "metadata": {
        "colab": {
          "base_uri": "https://localhost:8080/",
          "height": 563
        },
        "id": "mW55A2c8S1MT",
        "outputId": "41a64b85-ba3f-40a8-d5e9-541dcb8523cc"
      },
      "outputs": [
        {
          "output_type": "stream",
          "name": "stdout",
          "text": [
            "5\n"
          ]
        },
        {
          "output_type": "display_data",
          "data": {
            "text/plain": [
              "<Figure size 1500x500 with 1 Axes>"
            ],
            "image/png": "[encoded data removed]"
          },
          "metadata": {}
        }
      ],
      "source": [
        "numberOfColumns = len(memoryUsageMaxValueDF.columns)\n",
        "print(numberOfColumns)\n",
        "numberOfColumns = range(numberOfColumns-1)\n",
        "numberOfColumns\n",
        "\n",
        "#Na lista abaixo, coloque o valor de cada instância (ex.: 100.txt, 200.txt, 1000.txt, 5000.txt, etc)\n",
        "instancesVector=['100', '200', '1000', '2000', '5000', '10000', '50000', '100000', '500000', '1000000','5000000','10000000','100000000']\n",
        "\n",
        "plt.figure(figsize=(15, 5))\n",
        "plt.plot(instancesVector, memoryUsageMaxValueDF[\"Tempo Total (milisegundos)\"])\n",
        "plt.xticks(instancesVector, rotation='vertical')\n",
        "#plt.yticks(np.arange(0, 360000, 36000))\n",
        "plt.xlabel('Instância (ordenada)')\n",
        "plt.ylabel('Tempo Total (milisegundos)')\n",
        "\n",
        "plt.show()"
      ]
    },
    {
      "cell_type": "markdown",
      "metadata": {
        "id": "RmRpB_kwS1Me"
      },
      "source": [
        "### Seaborn"
      ]
    },
    {
      "cell_type": "code",
      "execution_count": 88,
      "metadata": {
        "colab": {
          "base_uri": "https://localhost:8080/",
          "height": 750
        },
        "id": "wVF--exNS1Mh",
        "outputId": "10e05512-eda4-4ca1-9799-6ad5f3564d61"
      },
      "outputs": [
        {
          "output_type": "stream",
          "name": "stdout",
          "text": [
            "5\n",
            "   Instancias  Tempo_Total_milisegundos\n",
            "0         100                    3.5252\n",
            "1         200                    4.2843\n",
            "2        1000                    4.8990\n",
            "3        2000                    8.5232\n",
            "4        5000                    6.0138\n",
            "5       10000                    8.7176\n",
            "6       50000                   10.2059\n",
            "7      100000                    7.7945\n",
            "8      500000                   15.5860\n",
            "9     1000000                   25.9279\n",
            "10    5000000                   63.4682\n",
            "11   10000000                   98.4511\n"
          ]
        },
        {
          "output_type": "execute_result",
          "data": {
            "text/plain": [
              "<Axes: xlabel='Instancias', ylabel='Tempo_Total_milisegundos'>"
            ]
          },
          "metadata": {},
          "execution_count": 88
        },
        {
          "output_type": "display_data",
          "data": {
            "text/plain": [
              "<Figure size 1500x500 with 1 Axes>"
            ],
            "image/png": "[encoded data removed]"
          },
          "metadata": {}
        }
      ],
      "source": [
        "numberOfColumns = len(memoryUsageMaxValueDF.columns)\n",
        "print(numberOfColumns)\n",
        "numberOfColumns = range(numberOfColumns-1)\n",
        "numberOfColumns\n",
        "\n",
        "#Na lista abaixo, coloque o valor de cada instância (ex.: 100.txt, 200.txt, 1000.txt, 5000.txt, etc)\n",
        "instancesVector=['100','200','1000','2000','5000','10000','50000','100000','500000','1000000','5000000','10000000']\n",
        "\n",
        "# Apply the default theme\n",
        "sns.set_theme()\n",
        "#temp_vector=[instancesVector,memoryUsageMaxValueDF[\"Memória Total (bytes)\"]]\n",
        "temp_vector = pd.DataFrame().assign(Instancias=instancesVector, Tempo_Total_milisegundos=memoryUsageMaxValueDF[\"Tempo Total (milisegundos)\"])\n",
        "print(temp_vector)\n",
        "\n",
        "\n",
        "#memoryUsageMaxValueDF\n",
        "# Create a visualization\n",
        "plt.figure(figsize=(15,5))\n",
        "sns.lineplot(\n",
        "    data=temp_vector,\n",
        "    x=\"Instancias\", y=\"Tempo_Total_milisegundos\"\n",
        ")"
      ]
    },
    {
      "cell_type": "markdown",
      "metadata": {
        "id": "kXGensONPK_R"
      },
      "source": [
        "# MaxValue2"
      ]
    },
    {
      "cell_type": "markdown",
      "metadata": {
        "id": "oQk_BjBYPK_S"
      },
      "source": [
        "## Ler tabela com as métricas de tempo de execução e memória consumida"
      ]
    },
    {
      "cell_type": "code",
      "execution_count": 89,
      "metadata": {
        "id": "mx34OfzBPK_T"
      },
      "outputs": [],
      "source": [
        "memoryUsageMaxValue2DF = pd.read_excel('/content/drive/MyDrive/Colab-Notebooks/maxVal2-Metricas.xlsx')"
      ]
    },
    {
      "cell_type": "code",
      "execution_count": 90,
      "metadata": {
        "colab": {
          "base_uri": "https://localhost:8080/",
          "height": 457
        },
        "id": "MCm5bbqYPK_U",
        "outputId": "fd7c2565-c66d-45a9-da2a-a5e5857a2b77"
      },
      "outputs": [
        {
          "output_type": "execute_result",
          "data": {
            "text/plain": [
              "      Instância (grandeza)  Tempo Total (milisegundos)  \\\n",
              "0         100 não-ordenada                      4.1955   \n",
              "1         200 não-ordenada                      4.0262   \n",
              "2        1000 não-ordenada                      3.6044   \n",
              "3        2000 não-ordenada                      3.4037   \n",
              "4        5000 não-ordenada                      4.5905   \n",
              "5       10000 não-ordenada                      5.8967   \n",
              "6       50000 não-ordenada                      3.8787   \n",
              "7      100000 não-ordenada                      3.7158   \n",
              "8      500000 não-ordenada                      4.4545   \n",
              "9     1000000 não-ordenada                      4.5701   \n",
              "10    5000000 não-ordenada                      6.0430   \n",
              "11   10000000 não-ordenada                      4.2404   \n",
              "12  100000000 não-ordenada                      4.5701   \n",
              "\n",
              "    Tempo médio (milisegundos)  Memória Total (bytes)  Memória média (bytes)  \n",
              "0                      0.41955                39624.0                 3962.4  \n",
              "1                      0.40262                40928.0                 4092.8  \n",
              "2                      0.36044                43008.0                 4300.8  \n",
              "3                      0.34037                44288.0                 4428.8  \n",
              "4                      0.45905                45728.0                 4572.8  \n",
              "5                      0.58967                47024.0                 4702.4  \n",
              "6                      0.38787                50296.0                 5029.6  \n",
              "7                      0.37158                51952.0                 5195.2  \n",
              "8                      0.44545                57952.0                 5795.2  \n",
              "9                      0.45701                66032.0                 6603.2  \n",
              "10                     0.60430                61528.0                 6152.8  \n",
              "11                     0.42404                62832.0                 6283.2  \n",
              "12                     0.45701                66032.0                 6603.2  "
            ],
            "text/html": [
              "\n",
              "  <div id=\"df-708f8438-3ff6-44dc-8555-c06adb7f7418\" class=\"colab-df-container\">\n",
              "    <div>\n",
              "<style scoped>\n",
              "    .dataframe tbody tr th:only-of-type {\n",
              "        vertical-align: middle;\n",
              "    }\n",
              "\n",
              "    .dataframe tbody tr th {\n",
              "        vertical-align: top;\n",
              "    }\n",
              "\n",
              "    .dataframe thead th {\n",
              "        text-align: right;\n",
              "    }\n",
              "</style>\n",
              "<table border=\"1\" class=\"dataframe\">\n",
              "  <thead>\n",
              "    <tr style=\"text-align: right;\">\n",
              "      <th></th>\n",
              "      <th>Instância (grandeza)</th>\n",
              "      <th>Tempo Total (milisegundos)</th>\n",
              "      <th>Tempo médio (milisegundos)</th>\n",
              "      <th>Memória Total (bytes)</th>\n",
              "      <th>Memória média (bytes)</th>\n",
              "    </tr>\n",
              "  </thead>\n",
              "  <tbody>\n",
              "    <tr>\n",
              "      <th>0</th>\n",
              "      <td>100 não-ordenada</td>\n",
              "      <td>4.1955</td>\n",
              "      <td>0.41955</td>\n",
              "      <td>39624.0</td>\n",
              "      <td>3962.4</td>\n",
              "    </tr>\n",
              "    <tr>\n",
              "      <th>1</th>\n",
              "      <td>200 não-ordenada</td>\n",
              "      <td>4.0262</td>\n",
              "      <td>0.40262</td>\n",
              "      <td>40928.0</td>\n",
              "      <td>4092.8</td>\n",
              "    </tr>\n",
              "    <tr>\n",
              "      <th>2</th>\n",
              "      <td>1000 não-ordenada</td>\n",
              "      <td>3.6044</td>\n",
              "      <td>0.36044</td>\n",
              "      <td>43008.0</td>\n",
              "      <td>4300.8</td>\n",
              "    </tr>\n",
              "    <tr>\n",
              "      <th>3</th>\n",
              "      <td>2000 não-ordenada</td>\n",
              "      <td>3.4037</td>\n",
              "      <td>0.34037</td>\n",
              "      <td>44288.0</td>\n",
              "      <td>4428.8</td>\n",
              "    </tr>\n",
              "    <tr>\n",
              "      <th>4</th>\n",
              "      <td>5000 não-ordenada</td>\n",
              "      <td>4.5905</td>\n",
              "      <td>0.45905</td>\n",
              "      <td>45728.0</td>\n",
              "      <td>4572.8</td>\n",
              "    </tr>\n",
              "    <tr>\n",
              "      <th>5</th>\n",
              "      <td>10000 não-ordenada</td>\n",
              "      <td>5.8967</td>\n",
              "      <td>0.58967</td>\n",
              "      <td>47024.0</td>\n",
              "      <td>4702.4</td>\n",
              "    </tr>\n",
              "    <tr>\n",
              "      <th>6</th>\n",
              "      <td>50000 não-ordenada</td>\n",
              "      <td>3.8787</td>\n",
              "      <td>0.38787</td>\n",
              "      <td>50296.0</td>\n",
              "      <td>5029.6</td>\n",
              "    </tr>\n",
              "    <tr>\n",
              "      <th>7</th>\n",
              "      <td>100000 não-ordenada</td>\n",
              "      <td>3.7158</td>\n",
              "      <td>0.37158</td>\n",
              "      <td>51952.0</td>\n",
              "      <td>5195.2</td>\n",
              "    </tr>\n",
              "    <tr>\n",
              "      <th>8</th>\n",
              "      <td>500000 não-ordenada</td>\n",
              "      <td>4.4545</td>\n",
              "      <td>0.44545</td>\n",
              "      <td>57952.0</td>\n",
              "      <td>5795.2</td>\n",
              "    </tr>\n",
              "    <tr>\n",
              "      <th>9</th>\n",
              "      <td>1000000 não-ordenada</td>\n",
              "      <td>4.5701</td>\n",
              "      <td>0.45701</td>\n",
              "      <td>66032.0</td>\n",
              "      <td>6603.2</td>\n",
              "    </tr>\n",
              "    <tr>\n",
              "      <th>10</th>\n",
              "      <td>5000000 não-ordenada</td>\n",
              "      <td>6.0430</td>\n",
              "      <td>0.60430</td>\n",
              "      <td>61528.0</td>\n",
              "      <td>6152.8</td>\n",
              "    </tr>\n",
              "    <tr>\n",
              "      <th>11</th>\n",
              "      <td>10000000 não-ordenada</td>\n",
              "      <td>4.2404</td>\n",
              "      <td>0.42404</td>\n",
              "      <td>62832.0</td>\n",
              "      <td>6283.2</td>\n",
              "    </tr>\n",
              "    <tr>\n",
              "      <th>12</th>\n",
              "      <td>100000000 não-ordenada</td>\n",
              "      <td>4.5701</td>\n",
              "      <td>0.45701</td>\n",
              "      <td>66032.0</td>\n",
              "      <td>6603.2</td>\n",
              "    </tr>\n",
              "  </tbody>\n",
              "</table>\n",
              "</div>\n",
              "    <div class=\"colab-df-buttons\">\n",
              "\n",
              "  <div class=\"colab-df-container\">\n",
              "    <button class=\"colab-df-convert\" onclick=\"convertToInteractive('df-708f8438-3ff6-44dc-8555-c06adb7f7418')\"\n",
              "            title=\"Convert this dataframe to an interactive table.\"\n",
              "            style=\"display:none;\">\n",
              "\n",
              "  <svg xmlns=\"http://www.w3.org/2000/svg\" height=\"24px\" viewBox=\"0 -960 960 960\">\n",
              "    <path d=\"M120-120v-720h720v720H120Zm60-500h600v-160H180v160Zm220 220h160v-160H400v160Zm0 220h160v-160H400v160ZM180-400h160v-160H180v160Zm440 0h160v-160H620v160ZM180-180h160v-160H180v160Zm440 0h160v-160H620v160Z\"/>\n",
              "  </svg>\n",
              "    </button>\n",
              "\n",
              "  <style>\n",
              "    .colab-df-container {\n",
              "      display:flex;\n",
              "      gap: 12px;\n",
              "    }\n",
              "\n",
              "    .colab-df-convert {\n",
              "      background-color: #E8F0FE;\n",
              "      border: none;\n",
              "      border-radius: 50%;\n",
              "      cursor: pointer;\n",
              "      display: none;\n",
              "      fill: #1967D2;\n",
              "      height: 32px;\n",
              "      padding: 0 0 0 0;\n",
              "      width: 32px;\n",
              "    }\n",
              "\n",
              "    .colab-df-convert:hover {\n",
              "      background-color: #E2EBFA;\n",
              "      box-shadow: 0px 1px 2px rgba(60, 64, 67, 0.3), 0px 1px 3px 1px rgba(60, 64, 67, 0.15);\n",
              "      fill: #174EA6;\n",
              "    }\n",
              "\n",
              "    .colab-df-buttons div {\n",
              "      margin-bottom: 4px;\n",
              "    }\n",
              "\n",
              "    [theme=dark] .colab-df-convert {\n",
              "      background-color: #3B4455;\n",
              "      fill: #D2E3FC;\n",
              "    }\n",
              "\n",
              "    [theme=dark] .colab-df-convert:hover {\n",
              "      background-color: #434B5C;\n",
              "      box-shadow: 0px 1px 3px 1px rgba(0, 0, 0, 0.15);\n",
              "      filter: drop-shadow(0px 1px 2px rgba(0, 0, 0, 0.3));\n",
              "      fill: #FFFFFF;\n",
              "    }\n",
              "  </style>\n",
              "\n",
              "    <script>\n",
              "      const buttonEl =\n",
              "        document.querySelector('#df-708f8438-3ff6-44dc-8555-c06adb7f7418 button.colab-df-convert');\n",
              "      buttonEl.style.display =\n",
              "        google.colab.kernel.accessAllowed ? 'block' : 'none';\n",
              "\n",
              "      async function convertToInteractive(key) {\n",
              "        const element = document.querySelector('#df-708f8438-3ff6-44dc-8555-c06adb7f7418');\n",
              "        const dataTable =\n",
              "          await google.colab.kernel.invokeFunction('convertToInteractive',\n",
              "                                                    [key], {});\n",
              "        if (!dataTable) return;\n",
              "\n",
              "        const docLinkHtml = 'Like what you see? Visit the ' +\n",
              "          '<a target=\"_blank\" href=https://colab.research.google.com/notebooks/data_table.ipynb>data table notebook</a>'\n",
              "          + ' to learn more about interactive tables.';\n",
              "        element.innerHTML = '';\n",
              "        dataTable['output_type'] = 'display_data';\n",
              "        await google.colab.output.renderOutput(dataTable, element);\n",
              "        const docLink = document.createElement('div');\n",
              "        docLink.innerHTML = docLinkHtml;\n",
              "        element.appendChild(docLink);\n",
              "      }\n",
              "    </script>\n",
              "  </div>\n",
              "\n",
              "\n",
              "<div id=\"df-467bba32-a213-43b4-9ec4-25d718f30c4e\">\n",
              "  <button class=\"colab-df-quickchart\" onclick=\"quickchart('df-467bba32-a213-43b4-9ec4-25d718f30c4e')\"\n",
              "            title=\"Suggest charts.\"\n",
              "            style=\"display:none;\">\n",
              "\n",
              "<svg xmlns=\"http://www.w3.org/2000/svg\" height=\"24px\"viewBox=\"0 0 24 24\"\n",
              "     width=\"24px\">\n",
              "    <g>\n",
              "        <path d=\"M19 3H5c-1.1 0-2 .9-2 2v14c0 1.1.9 2 2 2h14c1.1 0 2-.9 2-2V5c0-1.1-.9-2-2-2zM9 17H7v-7h2v7zm4 0h-2V7h2v10zm4 0h-2v-4h2v4z\"/>\n",
              "    </g>\n",
              "</svg>\n",
              "  </button>\n",
              "\n",
              "<style>\n",
              "  .colab-df-quickchart {\n",
              "      --bg-color: #E8F0FE;\n",
              "      --fill-color: #1967D2;\n",
              "      --hover-bg-color: #E2EBFA;\n",
              "      --hover-fill-color: #174EA6;\n",
              "      --disabled-fill-color: #AAA;\n",
              "      --disabled-bg-color: #DDD;\n",
              "  }\n",
              "\n",
              "  [theme=dark] .colab-df-quickchart {\n",
              "      --bg-color: #3B4455;\n",
              "      --fill-color: #D2E3FC;\n",
              "      --hover-bg-color: #434B5C;\n",
              "      --hover-fill-color: #FFFFFF;\n",
              "      --disabled-bg-color: #3B4455;\n",
              "      --disabled-fill-color: #666;\n",
              "  }\n",
              "\n",
              "  .colab-df-quickchart {\n",
              "    background-color: var(--bg-color);\n",
              "    border: none;\n",
              "    border-radius: 50%;\n",
              "    cursor: pointer;\n",
              "    display: none;\n",
              "    fill: var(--fill-color);\n",
              "    height: 32px;\n",
              "    padding: 0;\n",
              "    width: 32px;\n",
              "  }\n",
              "\n",
              "  .colab-df-quickchart:hover {\n",
              "    background-color: var(--hover-bg-color);\n",
              "    box-shadow: 0 1px 2px rgba(60, 64, 67, 0.3), 0 1px 3px 1px rgba(60, 64, 67, 0.15);\n",
              "    fill: var(--button-hover-fill-color);\n",
              "  }\n",
              "\n",
              "  .colab-df-quickchart-complete:disabled,\n",
              "  .colab-df-quickchart-complete:disabled:hover {\n",
              "    background-color: var(--disabled-bg-color);\n",
              "    fill: var(--disabled-fill-color);\n",
              "    box-shadow: none;\n",
              "  }\n",
              "\n",
              "  .colab-df-spinner {\n",
              "    border: 2px solid var(--fill-color);\n",
              "    border-color: transparent;\n",
              "    border-bottom-color: var(--fill-color);\n",
              "    animation:\n",
              "      spin 1s steps(1) infinite;\n",
              "  }\n",
              "\n",
              "  @keyframes spin {\n",
              "    0% {\n",
              "      border-color: transparent;\n",
              "      border-bottom-color: var(--fill-color);\n",
              "      border-left-color: var(--fill-color);\n",
              "    }\n",
              "    20% {\n",
              "      border-color: transparent;\n",
              "      border-left-color: var(--fill-color);\n",
              "      border-top-color: var(--fill-color);\n",
              "    }\n",
              "    30% {\n",
              "      border-color: transparent;\n",
              "      border-left-color: var(--fill-color);\n",
              "      border-top-color: var(--fill-color);\n",
              "      border-right-color: var(--fill-color);\n",
              "    }\n",
              "    40% {\n",
              "      border-color: transparent;\n",
              "      border-right-color: var(--fill-color);\n",
              "      border-top-color: var(--fill-color);\n",
              "    }\n",
              "    60% {\n",
              "      border-color: transparent;\n",
              "      border-right-color: var(--fill-color);\n",
              "    }\n",
              "    80% {\n",
              "      border-color: transparent;\n",
              "      border-right-color: var(--fill-color);\n",
              "      border-bottom-color: var(--fill-color);\n",
              "    }\n",
              "    90% {\n",
              "      border-color: transparent;\n",
              "      border-bottom-color: var(--fill-color);\n",
              "    }\n",
              "  }\n",
              "</style>\n",
              "\n",
              "  <script>\n",
              "    async function quickchart(key) {\n",
              "      const quickchartButtonEl =\n",
              "        document.querySelector('#' + key + ' button');\n",
              "      quickchartButtonEl.disabled = true;  // To prevent multiple clicks.\n",
              "      quickchartButtonEl.classList.add('colab-df-spinner');\n",
              "      try {\n",
              "        const charts = await google.colab.kernel.invokeFunction(\n",
              "            'suggestCharts', [key], {});\n",
              "      } catch (error) {\n",
              "        console.error('Error during call to suggestCharts:', error);\n",
              "      }\n",
              "      quickchartButtonEl.classList.remove('colab-df-spinner');\n",
              "      quickchartButtonEl.classList.add('colab-df-quickchart-complete');\n",
              "    }\n",
              "    (() => {\n",
              "      let quickchartButtonEl =\n",
              "        document.querySelector('#df-467bba32-a213-43b4-9ec4-25d718f30c4e button');\n",
              "      quickchartButtonEl.style.display =\n",
              "        google.colab.kernel.accessAllowed ? 'block' : 'none';\n",
              "    })();\n",
              "  </script>\n",
              "</div>\n",
              "    </div>\n",
              "  </div>\n"
            ]
          },
          "metadata": {},
          "execution_count": 90
        }
      ],
      "source": [
        "memoryUsageMaxValue2DF"
      ]
    },
    {
      "cell_type": "code",
      "execution_count": 91,
      "metadata": {
        "colab": {
          "base_uri": "https://localhost:8080/"
        },
        "id": "mPVyRGVePK_V",
        "outputId": "add6d879-5d1e-4591-b459-1e667c545d54"
      },
      "outputs": [
        {
          "output_type": "execute_result",
          "data": {
            "text/plain": [
              "numpy.float64"
            ]
          },
          "metadata": {},
          "execution_count": 91
        }
      ],
      "source": [
        "type(memoryUsageMaxValue2DF.iloc[0][2])"
      ]
    },
    {
      "cell_type": "code",
      "execution_count": 92,
      "metadata": {
        "colab": {
          "base_uri": "https://localhost:8080/"
        },
        "id": "HfzeH70NPK_V",
        "outputId": "865616f7-b437-4c97-d18e-c6dbef3b47ca"
      },
      "outputs": [
        {
          "output_type": "execute_result",
          "data": {
            "text/plain": [
              "5"
            ]
          },
          "metadata": {},
          "execution_count": 92
        }
      ],
      "source": [
        "len(memoryUsageMaxValue2DF.columns)"
      ]
    },
    {
      "cell_type": "code",
      "execution_count": 94,
      "metadata": {
        "colab": {
          "base_uri": "https://localhost:8080/"
        },
        "id": "rJjQDvgcPK_W",
        "outputId": "670fd017-efaf-40be-9b26-5d988078308b"
      },
      "outputs": [
        {
          "output_type": "execute_result",
          "data": {
            "text/plain": [
              "0     4.1955\n",
              "1     4.0262\n",
              "2     3.6044\n",
              "3     3.4037\n",
              "4     4.5905\n",
              "5     5.8967\n",
              "6     3.8787\n",
              "7     3.7158\n",
              "8     4.4545\n",
              "9     4.5701\n",
              "10    6.0430\n",
              "11    4.2404\n",
              "12    4.5701\n",
              "Name: Tempo Total (milisegundos), dtype: float64"
            ]
          },
          "metadata": {},
          "execution_count": 94
        }
      ],
      "source": [
        "#Verificando se os valores estão como float em vez de str\n",
        "memoryUsageMaxValue2DF[\"Tempo Total (milisegundos)\"]"
      ]
    },
    {
      "cell_type": "markdown",
      "metadata": {
        "id": "OxWpWDnASM4u"
      },
      "source": [
        "## Plotar gráficos"
      ]
    },
    {
      "cell_type": "markdown",
      "metadata": {
        "id": "gxifOGvSSO05"
      },
      "source": [
        "### Matplotlib"
      ]
    },
    {
      "cell_type": "code",
      "execution_count": 101,
      "metadata": {
        "colab": {
          "base_uri": "https://localhost:8080/",
          "height": 563
        },
        "id": "dEmNCOdQPK_W",
        "outputId": "ba41bb69-f313-4c4a-93da-05b4c188c368"
      },
      "outputs": [
        {
          "output_type": "stream",
          "name": "stdout",
          "text": [
            "5\n"
          ]
        },
        {
          "output_type": "display_data",
          "data": {
            "text/plain": [
              "<Figure size 1500x500 with 1 Axes>"
            ],
            "image/png": "[encoded data removed]"
          },
          "metadata": {}
        }
      ],
      "source": [
        "numberOfColumns = len(memoryUsageMaxValueDF.columns)\n",
        "print(numberOfColumns)\n",
        "numberOfColumns = range(numberOfColumns-1)\n",
        "numberOfColumns\n",
        "\n",
        "#Na lista abaixo, coloque o valor de cada instância (ex.: 100.txt, 200.txt, 1000.txt, 5000.txt, etc)\n",
        "instancesVector=['100', '200', '1000', '2000', '5000', '10000', '50000', '100000', '500000', '1000000','5000000','10000000','100000000']\n",
        "\n",
        "plt.figure(figsize=(15, 5))\n",
        "plt.plot(instancesVector, memoryUsageMaxValue2DF[\"Tempo Total (milisegundos)\"])\n",
        "plt.xticks(instancesVector, rotation='vertical')\n",
        "#plt.yticks(np.arange(0, 360000, 36000))\n",
        "plt.xlabel('Instância (ordenada)')\n",
        "plt.ylabel('Tempo Total (milisegundos)')\n",
        "\n",
        "plt.show()"
      ]
    },
    {
      "cell_type": "markdown",
      "metadata": {
        "id": "wUmzuX3F_R24"
      },
      "source": [
        "### Seaborn"
      ]
    },
    {
      "cell_type": "code",
      "execution_count": 100,
      "metadata": {
        "colab": {
          "base_uri": "https://localhost:8080/",
          "height": 750
        },
        "id": "VEr46Tgw_Tu6",
        "outputId": "e3ebe300-1629-4e9b-c1b8-49356055bb07"
      },
      "outputs": [
        {
          "output_type": "stream",
          "name": "stdout",
          "text": [
            "5\n",
            "   Instancias  Tempo_Total_milisegundos\n",
            "0         100                    4.1955\n",
            "1         200                    4.0262\n",
            "2        1000                    3.6044\n",
            "3        2000                    3.4037\n",
            "4        5000                    4.5905\n",
            "5       10000                    5.8967\n",
            "6       50000                    3.8787\n",
            "7      100000                    3.7158\n",
            "8      500000                    4.4545\n",
            "9     1000000                    4.5701\n",
            "10    5000000                    6.0430\n",
            "11   10000000                    4.2404\n"
          ]
        },
        {
          "output_type": "execute_result",
          "data": {
            "text/plain": [
              "<Axes: xlabel='Instancias', ylabel='Tempo_Total_milisegundos'>"
            ]
          },
          "metadata": {},
          "execution_count": 100
        },
        {
          "output_type": "display_data",
          "data": {
            "text/plain": [
              "<Figure size 1500x500 with 1 Axes>"
            ],
            "image/png": "[encoded data removed]"
          },
          "metadata": {}
        }
      ],
      "source": [
        "numberOfColumns = len(memoryUsageMaxValueDF.columns)\n",
        "print(numberOfColumns)\n",
        "numberOfColumns = range(numberOfColumns-1)\n",
        "numberOfColumns\n",
        "\n",
        "#Na lista abaixo, coloque o valor de cada instância (ex.: 100.txt, 200.txt, 1000.txt, 5000.txt, etc)\n",
        "instancesVector=['100','200','1000','2000','5000','10000','50000','100000','500000','1000000','5000000','10000000']\n",
        "\n",
        "# Apply the default theme\n",
        "sns.set_theme()\n",
        "#temp_vector=[instancesVector,memoryUsageMaxValueDF[\"Memória Total (bytes)\"]]\n",
        "temp_vector = pd.DataFrame().assign(Instancias=instancesVector, Tempo_Total_milisegundos=memoryUsageMaxValue2DF[\"Tempo Total (milisegundos)\"])\n",
        "print(temp_vector)\n",
        "\n",
        "\n",
        "#memoryUsageMaxValueDF\n",
        "# Create a visualization\n",
        "plt.figure(figsize=(15,5))\n",
        "sns.lineplot(\n",
        "    data=temp_vector,\n",
        "    x=\"Instancias\", y=\"Tempo_Total_milisegundos\"\n",
        ")"
      ]
    },
    {
      "cell_type": "markdown",
      "metadata": {
        "id": "k6ZPXVEjGYwB"
      },
      "source": []
    }
  ],
  "metadata": {
    "colab": {
      "provenance": [],
      "include_colab_link": true
    },
    "kernelspec": {
      "display_name": "Python 3 (ipykernel)",
      "language": "python",
      "name": "python3"
    },
    "language_info": {
      "codemirror_mode": {
        "name": "ipython",
        "version": 3
      },
      "file_extension": ".py",
      "mimetype": "text/x-python",
      "name": "python",
      "nbconvert_exporter": "python",
      "pygments_lexer": "ipython3",
      "version": "3.10.11"
    }
  },
  "nbformat": 4,
  "nbformat_minor": 0
}